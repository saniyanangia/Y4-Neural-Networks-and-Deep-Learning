{
 "cells": [
  {
   "cell_type": "code",
   "execution_count": 1,
   "id": "cae38bfa",
   "metadata": {},
   "outputs": [],
   "source": [
    "import pandas as pd \n",
    "import warnings\n",
    "import seaborn as sns \n",
    "warnings.filterwarnings('ignore')"
   ]
  },
  {
   "cell_type": "code",
   "execution_count": 2,
   "id": "e4496df2",
   "metadata": {},
   "outputs": [
    {
     "data": {
      "text/html": [
       "<div>\n",
       "<style scoped>\n",
       "    .dataframe tbody tr th:only-of-type {\n",
       "        vertical-align: middle;\n",
       "    }\n",
       "\n",
       "    .dataframe tbody tr th {\n",
       "        vertical-align: top;\n",
       "    }\n",
       "\n",
       "    .dataframe thead th {\n",
       "        text-align: right;\n",
       "    }\n",
       "</style>\n",
       "<table border=\"1\" class=\"dataframe\">\n",
       "  <thead>\n",
       "    <tr style=\"text-align: right;\">\n",
       "      <th></th>\n",
       "      <th>review</th>\n",
       "      <th>sentiment</th>\n",
       "    </tr>\n",
       "  </thead>\n",
       "  <tbody>\n",
       "    <tr>\n",
       "      <th>0</th>\n",
       "      <td>One of the other reviewers has mentioned that ...</td>\n",
       "      <td>positive</td>\n",
       "    </tr>\n",
       "    <tr>\n",
       "      <th>1</th>\n",
       "      <td>A wonderful little production. &lt;br /&gt;&lt;br /&gt;The...</td>\n",
       "      <td>positive</td>\n",
       "    </tr>\n",
       "    <tr>\n",
       "      <th>2</th>\n",
       "      <td>I thought this was a wonderful way to spend ti...</td>\n",
       "      <td>positive</td>\n",
       "    </tr>\n",
       "    <tr>\n",
       "      <th>3</th>\n",
       "      <td>Basically there's a family where a little boy ...</td>\n",
       "      <td>negative</td>\n",
       "    </tr>\n",
       "    <tr>\n",
       "      <th>4</th>\n",
       "      <td>Petter Mattei's \"Love in the Time of Money\" is...</td>\n",
       "      <td>positive</td>\n",
       "    </tr>\n",
       "    <tr>\n",
       "      <th>...</th>\n",
       "      <td>...</td>\n",
       "      <td>...</td>\n",
       "    </tr>\n",
       "    <tr>\n",
       "      <th>49995</th>\n",
       "      <td>I thought this movie did a down right good job...</td>\n",
       "      <td>positive</td>\n",
       "    </tr>\n",
       "    <tr>\n",
       "      <th>49996</th>\n",
       "      <td>Bad plot, bad dialogue, bad acting, idiotic di...</td>\n",
       "      <td>negative</td>\n",
       "    </tr>\n",
       "    <tr>\n",
       "      <th>49997</th>\n",
       "      <td>I am a Catholic taught in parochial elementary...</td>\n",
       "      <td>negative</td>\n",
       "    </tr>\n",
       "    <tr>\n",
       "      <th>49998</th>\n",
       "      <td>I'm going to have to disagree with the previou...</td>\n",
       "      <td>negative</td>\n",
       "    </tr>\n",
       "    <tr>\n",
       "      <th>49999</th>\n",
       "      <td>No one expects the Star Trek movies to be high...</td>\n",
       "      <td>negative</td>\n",
       "    </tr>\n",
       "  </tbody>\n",
       "</table>\n",
       "<p>50000 rows × 2 columns</p>\n",
       "</div>"
      ],
      "text/plain": [
       "                                                  review sentiment\n",
       "0      One of the other reviewers has mentioned that ...  positive\n",
       "1      A wonderful little production. <br /><br />The...  positive\n",
       "2      I thought this was a wonderful way to spend ti...  positive\n",
       "3      Basically there's a family where a little boy ...  negative\n",
       "4      Petter Mattei's \"Love in the Time of Money\" is...  positive\n",
       "...                                                  ...       ...\n",
       "49995  I thought this movie did a down right good job...  positive\n",
       "49996  Bad plot, bad dialogue, bad acting, idiotic di...  negative\n",
       "49997  I am a Catholic taught in parochial elementary...  negative\n",
       "49998  I'm going to have to disagree with the previou...  negative\n",
       "49999  No one expects the Star Trek movies to be high...  negative\n",
       "\n",
       "[50000 rows x 2 columns]"
      ]
     },
     "execution_count": 2,
     "metadata": {},
     "output_type": "execute_result"
    }
   ],
   "source": [
    "# read csv\n",
    "df = pd.read_csv('IMDB Dataset.csv')\n",
    "df"
   ]
  },
  {
   "cell_type": "code",
   "execution_count": 3,
   "id": "69d0a4f6",
   "metadata": {},
   "outputs": [],
   "source": [
    "# split into positive & negative \n",
    "positive = df[df['sentiment']=='positive']\n",
    "negative = df[df['sentiment']=='negative']"
   ]
  },
  {
   "cell_type": "code",
   "execution_count": 4,
   "id": "d3be8e85",
   "metadata": {},
   "outputs": [],
   "source": [
    "# define the number of samples per class for experiment\n",
    "limit_per_class = 500\n",
    "\n",
    "# select samples \n",
    "pos_l = positive.sample(n = limit_per_class, random_state = 42)\n",
    "neg_l = negative.sample(n = limit_per_class, random_state = 42)"
   ]
  },
  {
   "cell_type": "code",
   "execution_count": 5,
   "id": "3fbb85fe",
   "metadata": {},
   "outputs": [
    {
     "data": {
      "text/html": [
       "<div>\n",
       "<style scoped>\n",
       "    .dataframe tbody tr th:only-of-type {\n",
       "        vertical-align: middle;\n",
       "    }\n",
       "\n",
       "    .dataframe tbody tr th {\n",
       "        vertical-align: top;\n",
       "    }\n",
       "\n",
       "    .dataframe thead th {\n",
       "        text-align: right;\n",
       "    }\n",
       "</style>\n",
       "<table border=\"1\" class=\"dataframe\">\n",
       "  <thead>\n",
       "    <tr style=\"text-align: right;\">\n",
       "      <th></th>\n",
       "      <th>review</th>\n",
       "      <th>sentiment</th>\n",
       "    </tr>\n",
       "  </thead>\n",
       "  <tbody>\n",
       "    <tr>\n",
       "      <th>0</th>\n",
       "      <td>I don't know how or why this film has a meager...</td>\n",
       "      <td>positive</td>\n",
       "    </tr>\n",
       "    <tr>\n",
       "      <th>1</th>\n",
       "      <td>For a long time it seemed like all the good Ca...</td>\n",
       "      <td>positive</td>\n",
       "    </tr>\n",
       "    <tr>\n",
       "      <th>2</th>\n",
       "      <td>Terry Gilliam's and David Peoples' teamed up t...</td>\n",
       "      <td>positive</td>\n",
       "    </tr>\n",
       "    <tr>\n",
       "      <th>3</th>\n",
       "      <td>What is there to say about an anti-establishme...</td>\n",
       "      <td>positive</td>\n",
       "    </tr>\n",
       "    <tr>\n",
       "      <th>4</th>\n",
       "      <td>This movie was made only 48 years after the en...</td>\n",
       "      <td>positive</td>\n",
       "    </tr>\n",
       "    <tr>\n",
       "      <th>...</th>\n",
       "      <td>...</td>\n",
       "      <td>...</td>\n",
       "    </tr>\n",
       "    <tr>\n",
       "      <th>995</th>\n",
       "      <td>Do not waste your time watching this! Unless y...</td>\n",
       "      <td>negative</td>\n",
       "    </tr>\n",
       "    <tr>\n",
       "      <th>996</th>\n",
       "      <td>This movie just happened to be on HBO yesterda...</td>\n",
       "      <td>negative</td>\n",
       "    </tr>\n",
       "    <tr>\n",
       "      <th>997</th>\n",
       "      <td>John Travolta reprises his role as Chili Palme...</td>\n",
       "      <td>negative</td>\n",
       "    </tr>\n",
       "    <tr>\n",
       "      <th>998</th>\n",
       "      <td>I am Puerto Rican and this is one of the worst...</td>\n",
       "      <td>negative</td>\n",
       "    </tr>\n",
       "    <tr>\n",
       "      <th>999</th>\n",
       "      <td>The comment by \"eliz7212-1\" hits the proverbia...</td>\n",
       "      <td>negative</td>\n",
       "    </tr>\n",
       "  </tbody>\n",
       "</table>\n",
       "<p>1000 rows × 2 columns</p>\n",
       "</div>"
      ],
      "text/plain": [
       "                                                review sentiment\n",
       "0    I don't know how or why this film has a meager...  positive\n",
       "1    For a long time it seemed like all the good Ca...  positive\n",
       "2    Terry Gilliam's and David Peoples' teamed up t...  positive\n",
       "3    What is there to say about an anti-establishme...  positive\n",
       "4    This movie was made only 48 years after the en...  positive\n",
       "..                                                 ...       ...\n",
       "995  Do not waste your time watching this! Unless y...  negative\n",
       "996  This movie just happened to be on HBO yesterda...  negative\n",
       "997  John Travolta reprises his role as Chili Palme...  negative\n",
       "998  I am Puerto Rican and this is one of the worst...  negative\n",
       "999  The comment by \"eliz7212-1\" hits the proverbia...  negative\n",
       "\n",
       "[1000 rows x 2 columns]"
      ]
     },
     "execution_count": 5,
     "metadata": {},
     "output_type": "execute_result"
    }
   ],
   "source": [
    "# archive the full dataframe\n",
    "archive = df \n",
    "\n",
    "df = pd.concat([pos_l, neg_l]).reset_index(drop = True)\n",
    "df"
   ]
  },
  {
   "cell_type": "markdown",
   "id": "1fe2c779",
   "metadata": {},
   "source": [
    "<H1> Review Cleaning </H1>"
   ]
  },
  {
   "cell_type": "code",
   "execution_count": 6,
   "id": "72af4e76",
   "metadata": {},
   "outputs": [],
   "source": [
    "#Replace sentiment with 0 and 1\n",
    "df['sentiment'].replace({'positive':1,'negative':0},inplace=True)"
   ]
  },
  {
   "cell_type": "code",
   "execution_count": 7,
   "id": "589d7fbc",
   "metadata": {},
   "outputs": [
    {
     "data": {
      "text/html": [
       "<div>\n",
       "<style scoped>\n",
       "    .dataframe tbody tr th:only-of-type {\n",
       "        vertical-align: middle;\n",
       "    }\n",
       "\n",
       "    .dataframe tbody tr th {\n",
       "        vertical-align: top;\n",
       "    }\n",
       "\n",
       "    .dataframe thead th {\n",
       "        text-align: right;\n",
       "    }\n",
       "</style>\n",
       "<table border=\"1\" class=\"dataframe\">\n",
       "  <thead>\n",
       "    <tr style=\"text-align: right;\">\n",
       "      <th></th>\n",
       "      <th>review</th>\n",
       "      <th>sentiment</th>\n",
       "    </tr>\n",
       "  </thead>\n",
       "  <tbody>\n",
       "    <tr>\n",
       "      <th>0</th>\n",
       "      <td>i don t know how or why this film has a meager...</td>\n",
       "      <td>1</td>\n",
       "    </tr>\n",
       "    <tr>\n",
       "      <th>1</th>\n",
       "      <td>for a long time it seemed like all the good ca...</td>\n",
       "      <td>1</td>\n",
       "    </tr>\n",
       "    <tr>\n",
       "      <th>2</th>\n",
       "      <td>terry gilliam s and david peoples  teamed up t...</td>\n",
       "      <td>1</td>\n",
       "    </tr>\n",
       "    <tr>\n",
       "      <th>3</th>\n",
       "      <td>what is there to say about an anti establishme...</td>\n",
       "      <td>1</td>\n",
       "    </tr>\n",
       "    <tr>\n",
       "      <th>4</th>\n",
       "      <td>this movie was made only 48 years after the en...</td>\n",
       "      <td>1</td>\n",
       "    </tr>\n",
       "  </tbody>\n",
       "</table>\n",
       "</div>"
      ],
      "text/plain": [
       "                                              review  sentiment\n",
       "0  i don t know how or why this film has a meager...          1\n",
       "1  for a long time it seemed like all the good ca...          1\n",
       "2  terry gilliam s and david peoples  teamed up t...          1\n",
       "3  what is there to say about an anti establishme...          1\n",
       "4  this movie was made only 48 years after the en...          1"
      ]
     },
     "execution_count": 7,
     "metadata": {},
     "output_type": "execute_result"
    }
   ],
   "source": [
    "#Clean reviews\n",
    "import re\n",
    "clean = re.compile('<.*?>')\n",
    "re.sub(clean,'',df.iloc[1].review)\n",
    "def clean_html(text):\n",
    "    clean = re.compile('<.*?>')\n",
    "    return re.sub(clean,'',text)\n",
    "df['review'] = df['review'].apply(clean_html)\n",
    "\n",
    "#Convert chars to lowercase\n",
    "def convert_lower(text):\n",
    "    return text.lower()\n",
    "df['review'] = df['review'].apply(convert_lower)\n",
    "\n",
    "#Remove special characters (non-alphanumeric)\n",
    "def remove_special(text):\n",
    "    x=''\n",
    "    for i in text:\n",
    "        if i.isalnum():\n",
    "            x=x+i\n",
    "        else:\n",
    "            x=x+' '\n",
    "    return x\n",
    "df['review'] = df['review'].apply(remove_special)\n",
    "df.head()"
   ]
  },
  {
   "cell_type": "code",
   "execution_count": 8,
   "id": "2beec599",
   "metadata": {},
   "outputs": [],
   "source": [
    "from sklearn.model_selection import train_test_split \n",
    "\n",
    "# determine X_test & y_test \n",
    "X_train, X_test, y_train, y_test = train_test_split(df['review'], df['sentiment'], test_size = 0.2, random_state = 42)\n",
    "\n",
    "X_train = X_train.reset_index(drop = True)\n",
    "X_test = X_test.reset_index(drop = True)\n",
    "y_train = y_train.reset_index(drop = True)\n",
    "y_test = y_test.reset_index(drop = True)"
   ]
  },
  {
   "cell_type": "markdown",
   "id": "b6b446d9",
   "metadata": {},
   "source": [
    "<h1> Experiments </h1>"
   ]
  },
  {
   "cell_type": "code",
   "execution_count": 9,
   "id": "fa7c614d",
   "metadata": {},
   "outputs": [],
   "source": [
    "from sklearn import ensemble\n",
    "from datetime import datetime\n",
    "from sklearn.metrics import confusion_matrix, accuracy_score\n",
    "from sentence_transformers import SentenceTransformer"
   ]
  },
  {
   "cell_type": "code",
   "execution_count": 10,
   "id": "f7f4f91d",
   "metadata": {},
   "outputs": [],
   "source": [
    "experiment_name = [] \n",
    "experiment_acc = [] \n",
    "experiment_time = [] "
   ]
  },
  {
   "cell_type": "markdown",
   "id": "7e79ef2e",
   "metadata": {},
   "source": [
    "<h2> 1. Baseline (BERT Embedding of Original Text + RandomForest Classifier </h2>"
   ]
  },
  {
   "cell_type": "code",
   "execution_count": 11,
   "id": "d0e2fc8f",
   "metadata": {},
   "outputs": [],
   "source": [
    "# start time \n",
    "start = datetime.now()\n",
    "\n",
    "# Sentence Transformer \n",
    "model = SentenceTransformer('bert-base-nli-mean-tokens')\n",
    "\n",
    "# encode train \n",
    "train_encoded = model.encode(X_train.tolist())\n",
    "dfe_train = pd.DataFrame(train_encoded)\n",
    "y_train1 = y_train.reset_index(drop = True, inplace = False)\n",
    "dfe_train['sentiment'] = y_train1\n",
    "\n",
    "# encode test \n",
    "test_encoded = model.encode(X_test.tolist())\n",
    "dfe_test = pd.DataFrame(test_encoded)\n",
    "y_test1 = y_test.reset_index(drop = True, inplace = False)\n",
    "dfe_test['sentiment'] = y_test1\n",
    "\n",
    "# split into X_train, X_test, y_train, y_test\n",
    "X_traini = dfe_train.drop(['sentiment'], axis = 1)\n",
    "y_traini = dfe_train['sentiment']\n",
    "X_testi = dfe_test.drop(['sentiment'], axis = 1)\n",
    "y_testi = dfe_test['sentiment']\n",
    "\n",
    "# random forest classifier \n",
    "model_rf = ensemble.RandomForestClassifier(random_state=1)\n",
    "\n",
    "# train the model \n",
    "model_rf.fit(X_traini, y_traini)\n",
    "\n",
    "# predict sentiment\n",
    "pred = model_rf.predict(X_testi)\n",
    "\n",
    "# confusion matrix \n",
    "cm_rf = confusion_matrix(y_testi, pred)\n",
    "\n",
    "# end time \n",
    "end = datetime.now()"
   ]
  },
  {
   "cell_type": "code",
   "execution_count": 12,
   "id": "7803e14f",
   "metadata": {
    "scrolled": true
   },
   "outputs": [
    {
     "name": "stdout",
     "output_type": "stream",
     "text": [
      "Accuracy:  0.795\n",
      "Average Duration (in seconds):  0.209586773\n"
     ]
    },
    {
     "data": {
      "image/png": "[encoded data removed]",
      "text/plain": [
       "<Figure size 640x480 with 2 Axes>"
      ]
     },
     "metadata": {},
     "output_type": "display_data"
    }
   ],
   "source": [
    "expi_name = \"BERT (original text) with RF Classifier\"\n",
    "\n",
    "# print accuracy of model \n",
    "acc = accuracy_score(y_testi, pred)\n",
    "print(\"Accuracy: \", acc)\n",
    "\n",
    "# duration of experiment per datapoint \n",
    "duration = ((end - start).total_seconds())/len(df)\n",
    "print(\"Average Duration (in seconds): \", duration)\n",
    "\n",
    "# plot confusion matrix using seaborn heatmap \n",
    "sns.heatmap(cm_rf, annot=True, fmt=\"d\")\n",
    "\n",
    "experiment_name.append(expi_name)\n",
    "experiment_acc.append(acc)\n",
    "experiment_time.append(duration)"
   ]
  },
  {
   "cell_type": "markdown",
   "id": "a130cfe6",
   "metadata": {},
   "source": [
    "<h2> 2. With Summarization using T5 on Trainset </h2>"
   ]
  },
  {
   "cell_type": "markdown",
   "id": "ab653352",
   "metadata": {},
   "source": [
    "Define Summarization Function"
   ]
  },
  {
   "cell_type": "code",
   "execution_count": 13,
   "id": "b1ccac2f",
   "metadata": {},
   "outputs": [],
   "source": [
    "from bs4 import BeautifulSoup\n",
    "from tqdm import tqdm\n",
    "from transformers import AutoTokenizer, AutoModelWithLMHead\n",
    "\n",
    "def T5_summarization(model, tokenizer, text):\n",
    "    input_string = f'summarize: {text}'\n",
    "    input_length = len(text.split())\n",
    "    \n",
    "    if input_length > 100:\n",
    "        max_length = int(0.4 * input_length)\n",
    "        # min_length = int(0.3 * input_length)\n",
    "    else: \n",
    "        max_length = int(0.9 * input_length) \n",
    "        # min_length = int(0.8 * input_length)\n",
    "    \n",
    "    inputs =tokenizer.encode(input_string, return_tensors='pt', truncation=True)\n",
    "    outputs = model.generate(inputs, max_length=max_length)\n",
    "    summary=tokenizer.decode(outputs[0])\n",
    "\n",
    "    summary = BeautifulSoup(summary, 'lxml').text\n",
    "    \n",
    "    return summary\n",
    "\n",
    "def summarize(texts):\n",
    "    \n",
    "    print('Starting summarization')\n",
    "    \n",
    "    tokenizer=AutoTokenizer.from_pretrained('T5-base')\n",
    "    model=AutoModelWithLMHead.from_pretrained('T5-base', return_dict=True)\n",
    "    \n",
    "    result = [] \n",
    "    \n",
    "    for index in tqdm(range(len(texts))): \n",
    "        summary = T5_summarization(model, tokenizer, texts[index])\n",
    "        result.append(summary)\n",
    "    \n",
    "    return pd.Series(result)"
   ]
  },
  {
   "cell_type": "code",
   "execution_count": 14,
   "id": "2cba1bc0",
   "metadata": {},
   "outputs": [
    {
     "name": "stdout",
     "output_type": "stream",
     "text": [
      "Starting summarization\n"
     ]
    },
    {
     "name": "stderr",
     "output_type": "stream",
     "text": [
      "  0%|                                                                                          | 0/800 [00:00<?, ?it/s]Asking to truncate to max_length but no maximum length is provided and the model has no predefined maximum length. Default to no truncation.\n",
      "100%|████████████████████████████████████████████████████████████████████████████████| 800/800 [46:03<00:00,  3.45s/it]\n"
     ]
    }
   ],
   "source": [
    "# start time \n",
    "start = datetime.now()\n",
    "\n",
    "# using T5 to summarize text \n",
    "X_train_T5 = summarize(X_train)\n",
    "\n",
    "# Sentence Transformer \n",
    "model = SentenceTransformer('bert-base-nli-mean-tokens')\n",
    "\n",
    "# encode train \n",
    "train_encoded = model.encode(X_train_T5.tolist())\n",
    "dfe_train = pd.DataFrame(train_encoded)\n",
    "y_train1 = y_train.reset_index(drop = True, inplace = False)\n",
    "dfe_train['sentiment'] = y_train1\n",
    "\n",
    "# encode test \n",
    "test_encoded = model.encode(X_test.tolist())\n",
    "dfe_test = pd.DataFrame(test_encoded)\n",
    "y_test1 = y_test.reset_index(drop = True, inplace = False)\n",
    "dfe_test['sentiment'] = y_test1\n",
    "\n",
    "# split into X_train, X_test, y_train, y_test\n",
    "X_traini = dfe_train.drop(['sentiment'], axis = 1)\n",
    "y_traini = dfe_train['sentiment']\n",
    "X_testi = dfe_test.drop(['sentiment'], axis = 1)\n",
    "y_testi = dfe_test['sentiment']\n",
    "\n",
    "# random forest classifier \n",
    "model_rf = ensemble.RandomForestClassifier(random_state=1)\n",
    "\n",
    "# train the model \n",
    "model_rf.fit(X_traini, y_traini)\n",
    "\n",
    "# predict sentiment\n",
    "pred = model_rf.predict(X_testi)\n",
    "\n",
    "# confusion matrix \n",
    "cm_rf = confusion_matrix(y_testi, pred)\n",
    "\n",
    "# end time \n",
    "end = datetime.now()"
   ]
  },
  {
   "cell_type": "code",
   "execution_count": 15,
   "id": "095ed8b5",
   "metadata": {},
   "outputs": [
    {
     "name": "stdout",
     "output_type": "stream",
     "text": [
      "Accuracy:  0.755\n",
      "Average Duration (in seconds):  2.8683662340000002\n"
     ]
    },
    {
     "data": {
      "image/png": "[encoded data removed]",
      "text/plain": [
       "<Figure size 640x480 with 2 Axes>"
      ]
     },
     "metadata": {},
     "output_type": "display_data"
    }
   ],
   "source": [
    "expi_name = \"BERT (summarized text) with RF Classifier\"\n",
    "\n",
    "# print accuracy of model \n",
    "acc = accuracy_score(y_testi, pred)\n",
    "print(\"Accuracy: \", acc)\n",
    "\n",
    "# duration of experiment per datapoint \n",
    "duration = ((end - start).total_seconds())/len(df)\n",
    "print(\"Average Duration (in seconds): \", duration)\n",
    "\n",
    "# plot confusion matrix using seaborn heatmap \n",
    "sns.heatmap(cm_rf, annot=True, fmt=\"d\")\n",
    "\n",
    "experiment_name.append(expi_name)\n",
    "experiment_acc.append(acc)\n",
    "experiment_time.append(duration)"
   ]
  },
  {
   "cell_type": "markdown",
   "id": "47e0c0af",
   "metadata": {},
   "source": [
    "<h1> 3. With Expanded Dataset Through Augmentation Techniques </h1>"
   ]
  },
  {
   "cell_type": "code",
   "execution_count": 16,
   "id": "61ea1aa4",
   "metadata": {},
   "outputs": [],
   "source": [
    "from textattack.augmentation import WordNetAugmenter, EasyDataAugmenter, CheckListAugmenter\n",
    "# from textattack.augmentation import WordNetAugmenter, EmbeddingAugmenter, EasyDataAugmenter, CharSwapAugmenter, CheckListAugmenter, BackTranslationAugmenter\n",
    "from tqdm import tqdm\n",
    "\n",
    "def easy_aug(X_train):\n",
    "        \n",
    "    aug_easydata = EasyDataAugmenter()\n",
    "    \n",
    "    processed = [] \n",
    "    \n",
    "    for index in tqdm(range(len(X_train))):\n",
    "        item = aug_easydata.augment(X_train[index])\n",
    "        processed.append(item)\n",
    "    \n",
    "    return pd.Series(processed)\n",
    "\n",
    "def wordnet_aug(X_train):\n",
    "        \n",
    "    aug_wordnet = WordNetAugmenter()\n",
    "    \n",
    "    processed = [] \n",
    "    \n",
    "    for index in tqdm(range(len(X_train))):\n",
    "        item = aug_wordnet.augment(X_train[index])\n",
    "        processed.append(item[0])\n",
    "    \n",
    "    return pd.Series(processed)\n",
    "\n",
    "def checklist_aug(X_train):\n",
    "        \n",
    "    aug_checklist = CheckListAugmenter()\n",
    "    \n",
    "    processed = [] \n",
    "    \n",
    "    for index in tqdm(range(len(X_train))):\n",
    "        item = aug_checklist.augment(X_train[index])\n",
    "        processed.append(item[0])\n",
    "    \n",
    "    return pd.Series(processed)"
   ]
  },
  {
   "cell_type": "code",
   "execution_count": 17,
   "id": "734ddff1",
   "metadata": {},
   "outputs": [],
   "source": [
    "def data_augmentation(X_train, y_train, X_train_T5):\n",
    "    \n",
    "    target_variable = 'review'\n",
    "    \n",
    "    df = pd.DataFrame(X_train_T5, columns = [target_variable])\n",
    "    df['sentiment'] = y_train    \n",
    "\n",
    "    # format T5 summary dataframe (x1)\n",
    "    df1 = df.copy()\n",
    "    result = df \n",
    "    \n",
    "    # append original \n",
    "    df1 = pd.DataFrame(X_train, columns = [target_variable])\n",
    "    df1['sentiment'] = y_train\n",
    "    result = pd.concat([result, df1]).reset_index(drop = True)\n",
    "\n",
    "    # easy data augmenter (explode) (x4)\n",
    "    print('easy data ...')\n",
    "    df1 = df.copy()\n",
    "    processed = easy_aug(df1[target_variable])\n",
    "    df1[target_variable] = processed\n",
    "    df1 = df1.explode(target_variable).reset_index(drop = True)\n",
    "    result = pd.concat([result, df1]).reset_index(drop = True)    \n",
    "    \n",
    "    # wordnet augmenter \n",
    "    print('wordnet ...')\n",
    "    df1 = df.copy()\n",
    "    processed = wordnet_aug(df1[target_variable])\n",
    "    df1[target_variable] = processed\n",
    "    result = pd.concat([result, df1]).reset_index(drop = True)\n",
    "    \n",
    "    # wordnet augmenter \n",
    "    print('checklist ...')\n",
    "    df1 = df.copy()\n",
    "    processed = checklist_aug(df1[target_variable])\n",
    "    df1[target_variable] = processed\n",
    "    result = pd.concat([result, df1]).reset_index(drop = True)    \n",
    "\n",
    "    return result"
   ]
  },
  {
   "cell_type": "code",
   "execution_count": 18,
   "id": "1f267dc5",
   "metadata": {},
   "outputs": [
    {
     "name": "stdout",
     "output_type": "stream",
     "text": [
      "easy data ...\n"
     ]
    },
    {
     "name": "stderr",
     "output_type": "stream",
     "text": [
      "[nltk_data] Downloading package omw-1.4 to\n",
      "[nltk_data]     C:\\Users\\user\\AppData\\Roaming\\nltk_data...\n",
      "[nltk_data]   Package omw-1.4 is already up-to-date!\n",
      "100%|████████████████████████████████████████████████████████████████████████████████| 800/800 [11:41<00:00,  1.14it/s]\n",
      "[nltk_data] Downloading package omw-1.4 to\n",
      "[nltk_data]     C:\\Users\\user\\AppData\\Roaming\\nltk_data...\n",
      "[nltk_data]   Package omw-1.4 is already up-to-date!\n"
     ]
    },
    {
     "name": "stdout",
     "output_type": "stream",
     "text": [
      "wordnet ...\n"
     ]
    },
    {
     "name": "stderr",
     "output_type": "stream",
     "text": [
      "100%|████████████████████████████████████████████████████████████████████████████████| 800/800 [07:45<00:00,  1.72it/s]\n"
     ]
    },
    {
     "name": "stdout",
     "output_type": "stream",
     "text": [
      "checklist ...\n"
     ]
    },
    {
     "name": "stderr",
     "output_type": "stream",
     "text": [
      "\r",
      "  0%|                                                                                          | 0/800 [00:00<?, ?it/s]"
     ]
    },
    {
     "name": "stdout",
     "output_type": "stream",
     "text": [
      "2023-11-10 21:54:55,943 SequenceTagger predicts: Dictionary with 20 tags: <unk>, O, S-ORG, S-MISC, B-PER, E-PER, S-LOC, B-ORG, E-ORG, I-PER, S-PER, B-MISC, I-MISC, E-MISC, I-ORG, B-LOC, E-LOC, I-LOC, <START>, <STOP>\n"
     ]
    },
    {
     "name": "stderr",
     "output_type": "stream",
     "text": [
      "100%|████████████████████████████████████████████████████████████████████████████████| 800/800 [49:16<00:00,  3.70s/it]\n"
     ]
    }
   ],
   "source": [
    "# start time \n",
    "start = datetime.now()\n",
    "\n",
    "# using T5 to summarize text \n",
    "train_aug = data_augmentation(X_train, y_train, X_train_T5)\n",
    "\n",
    "# Sentence Transformer \n",
    "model = SentenceTransformer('bert-base-nli-mean-tokens')\n",
    "\n",
    "# encode train \n",
    "train_encoded = model.encode(train_aug['review'].tolist())\n",
    "dfe_train = pd.DataFrame(train_encoded)\n",
    "y_train1 = train_aug['sentiment']\n",
    "dfe_train['sentiment'] = y_train1\n",
    "\n",
    "# encode test \n",
    "test_encoded = model.encode(X_test.tolist())\n",
    "dfe_test = pd.DataFrame(test_encoded)\n",
    "y_test1 = y_test.reset_index(drop = True, inplace = False)\n",
    "dfe_test['sentiment'] = y_test1\n",
    "\n",
    "# split into X_train, X_test, y_train, y_test\n",
    "X_traini = dfe_train.drop(['sentiment'], axis = 1)\n",
    "y_traini = dfe_train['sentiment']\n",
    "X_testi = dfe_test.drop(['sentiment'], axis = 1)\n",
    "y_testi = dfe_test['sentiment']\n",
    "\n",
    "# random forest classifier \n",
    "model_rf = ensemble.RandomForestClassifier(random_state=1)\n",
    "\n",
    "# train the model \n",
    "model_rf.fit(X_traini, y_traini)\n",
    "\n",
    "# predict sentiment\n",
    "pred = model_rf.predict(X_testi)\n",
    "\n",
    "# confusion matrix \n",
    "cm_rf = confusion_matrix(y_testi, pred)\n",
    "\n",
    "# end time \n",
    "end = datetime.now()"
   ]
  },
  {
   "cell_type": "code",
   "execution_count": 19,
   "id": "c36bf6f5",
   "metadata": {},
   "outputs": [
    {
     "name": "stdout",
     "output_type": "stream",
     "text": [
      "Accuracy:  0.8\n",
      "Average Duration (in seconds):  4.927538008000001\n",
      "Shape of dfe_train:  (6400, 769)\n"
     ]
    },
    {
     "data": {
      "image/png": "[encoded data removed]",
      "text/plain": [
       "<Figure size 640x480 with 2 Axes>"
      ]
     },
     "metadata": {},
     "output_type": "display_data"
    }
   ],
   "source": [
    "expi_name = \"BERT (Augment text) with RF Classifier\"\n",
    "\n",
    "# print accuracy of model \n",
    "acc = accuracy_score(y_testi, pred)\n",
    "print(\"Accuracy: \", acc)\n",
    "\n",
    "# duration of experiment per datapoint \n",
    "duration = ((end - start).total_seconds())/len(df)\n",
    "print(\"Average Duration (in seconds): \", duration)\n",
    "\n",
    "# print shape of dfe_train \n",
    "print(\"Shape of dfe_train: \", dfe_train.shape)\n",
    "\n",
    "# plot confusion matrix using seaborn heatmap \n",
    "sns.heatmap(cm_rf, annot=True, fmt=\"d\")\n",
    "\n",
    "experiment_name.append(expi_name)\n",
    "experiment_acc.append(acc)\n",
    "experiment_time.append(duration)"
   ]
  },
  {
   "cell_type": "markdown",
   "id": "3d842548",
   "metadata": {},
   "source": [
    "<h1> Consolidation of Performance </h1>"
   ]
  },
  {
   "cell_type": "code",
   "execution_count": 20,
   "id": "26628496",
   "metadata": {},
   "outputs": [
    {
     "data": {
      "text/html": [
       "<div>\n",
       "<style scoped>\n",
       "    .dataframe tbody tr th:only-of-type {\n",
       "        vertical-align: middle;\n",
       "    }\n",
       "\n",
       "    .dataframe tbody tr th {\n",
       "        vertical-align: top;\n",
       "    }\n",
       "\n",
       "    .dataframe thead th {\n",
       "        text-align: right;\n",
       "    }\n",
       "</style>\n",
       "<table border=\"1\" class=\"dataframe\">\n",
       "  <thead>\n",
       "    <tr style=\"text-align: right;\">\n",
       "      <th></th>\n",
       "      <th>Experiment Name</th>\n",
       "      <th>Experiment Accuracy</th>\n",
       "      <th>Avg Experiment Time per Datapoint</th>\n",
       "    </tr>\n",
       "  </thead>\n",
       "  <tbody>\n",
       "    <tr>\n",
       "      <th>0</th>\n",
       "      <td>BERT (original text) with RF Classifier</td>\n",
       "      <td>0.795</td>\n",
       "      <td>0.209587</td>\n",
       "    </tr>\n",
       "    <tr>\n",
       "      <th>1</th>\n",
       "      <td>BERT (summarized text) with RF Classifier</td>\n",
       "      <td>0.755</td>\n",
       "      <td>2.868366</td>\n",
       "    </tr>\n",
       "    <tr>\n",
       "      <th>2</th>\n",
       "      <td>BERT (Augment text) with RF Classifier</td>\n",
       "      <td>0.800</td>\n",
       "      <td>4.927538</td>\n",
       "    </tr>\n",
       "  </tbody>\n",
       "</table>\n",
       "</div>"
      ],
      "text/plain": [
       "                             Experiment Name  Experiment Accuracy  \\\n",
       "0    BERT (original text) with RF Classifier                0.795   \n",
       "1  BERT (summarized text) with RF Classifier                0.755   \n",
       "2     BERT (Augment text) with RF Classifier                0.800   \n",
       "\n",
       "   Avg Experiment Time per Datapoint  \n",
       "0                           0.209587  \n",
       "1                           2.868366  \n",
       "2                           4.927538  "
      ]
     },
     "execution_count": 20,
     "metadata": {},
     "output_type": "execute_result"
    }
   ],
   "source": [
    "result_df = pd.DataFrame()\n",
    "\n",
    "result_df['Experiment Name'] = experiment_name \n",
    "result_df['Experiment Accuracy'] = experiment_acc \n",
    "result_df['Avg Experiment Time per Datapoint'] = experiment_time \n",
    "\n",
    "# show dataframe \n",
    "result_df"
   ]
  },
  {
   "cell_type": "markdown",
   "id": "261f7b4c",
   "metadata": {},
   "source": [
    "<b> Example of T5 Summarized Text </b>"
   ]
  },
  {
   "cell_type": "code",
   "execution_count": 21,
   "id": "0a5f1cad",
   "metadata": {},
   "outputs": [
    {
     "data": {
      "text/plain": [
       "\" author steven greenstreet has been a big fan of michael moore. moore was paid 40 000 of the state of utah's educational funds to promote his own liberal movie. greenstreet has even dropped out of film school to help accelerate his career.\""
      ]
     },
     "execution_count": 21,
     "metadata": {},
     "output_type": "execute_result"
    }
   ],
   "source": [
    "X_train_T5[2]"
   ]
  },
  {
   "cell_type": "code",
   "execution_count": 22,
   "id": "1285bc7a",
   "metadata": {},
   "outputs": [
    {
     "data": {
      "text/plain": [
       "'not only does the film s author  steven greenstreet  obviously idolize michael moore  but he also follows in his footsteps by using several of moore s propaganda film making tactics  moore has expertise in distracting the viewer from this focus though  while greenstreet is obviously less skilled here having been privy to all of the issues surrounding moore s speech at uvsc  i was disappointed to see that the major complaints of the community    that moore was being paid  40 000 of the state of utah  s educational funds to basically promote john kerry s campaign and to advertise his own liberal movie    were pushed to the background by greenstreet while lesser issues were sensationalized the marketing methods for this video have been equally biased and objectionable    promoting the film by claiming that  mormon s tried to kill moore   not only is this preposterous  but it defames a major religion that greenstreet obviously has some personal issues with  i followed moore s visit very closely  and all of the major news agencies noted that moore s visit came and went without any credible security problems or incidents in utah greenstreet has banked on this film to jump start his film making career to the point that he has even dropped out of film school to help accelerate this  this seems to have been a severe miscalculation though  since moore s visits to roughly 60 other colleges and universities across the country in 2004 diluted interest for this rather common event  greenstreet s assumption that american audiences would be interested in this film due to the promoted religious and conservative angles doesn t seem to be well founded even the name of the film  this divided state  is somewhat of a misnomer since utah voted overwhelmingly for bush s re election and thus appears to be more politically unified than any other state  the division in the movie title seems more indicative of the gulf that exists in greenstreet s ideological differences with his religion and state  if anything  i find a humorous correlation between the religious angle of this supposed documentary and woody allen s hilarious contention in sleeper  1973  that   i was beaten up by quakers  '"
      ]
     },
     "execution_count": 22,
     "metadata": {},
     "output_type": "execute_result"
    }
   ],
   "source": [
    "X_train[2]"
   ]
  },
  {
   "cell_type": "markdown",
   "id": "ef4b7cfa",
   "metadata": {},
   "source": [
    "<b> Visualization of T5 Summarized Text Word Count Distribution </b>"
   ]
  },
  {
   "cell_type": "code",
   "execution_count": 23,
   "id": "48110052",
   "metadata": {},
   "outputs": [],
   "source": [
    "import seaborn as sns \n",
    "import matplotlib.pyplot as plt\n",
    "\n",
    "original = [] \n",
    "summarized = [] \n",
    "\n",
    "for review in X_train: \n",
    "    original.append(len(review.split()))\n",
    "\n",
    "for review in X_train_T5: \n",
    "    summarized.append(len(review.split()))"
   ]
  },
  {
   "cell_type": "code",
   "execution_count": 24,
   "id": "c683e2d1",
   "metadata": {},
   "outputs": [
    {
     "data": {
      "text/plain": [
       "Text(0, 0.5, '')"
      ]
     },
     "execution_count": 24,
     "metadata": {},
     "output_type": "execute_result"
    },
    {
     "data": {
      "image/png": "[encoded data removed]",
      "text/plain": [
       "<Figure size 640x480 with 1 Axes>"
      ]
     },
     "metadata": {},
     "output_type": "display_data"
    }
   ],
   "source": [
    "sns.distplot(original)\n",
    "plt.xlabel('Word Count')\n",
    "plt.ylabel('')"
   ]
  },
  {
   "cell_type": "code",
   "execution_count": 25,
   "id": "dadd6dac",
   "metadata": {},
   "outputs": [
    {
     "data": {
      "text/plain": [
       "Text(0.5, 0, 'Word Count')"
      ]
     },
     "execution_count": 25,
     "metadata": {},
     "output_type": "execute_result"
    },
    {
     "data": {
      "image/png": "[encoded data removed]",
      "text/plain": [
       "<Figure size 640x480 with 1 Axes>"
      ]
     },
     "metadata": {},
     "output_type": "display_data"
    }
   ],
   "source": [
    "sns.distplot(summarized)\n",
    "plt.xlabel('Word Count')"
   ]
  },
  {
   "cell_type": "code",
   "execution_count": null,
   "id": "0456d1bf",
   "metadata": {},
   "outputs": [],
   "source": []
  }
 ],
 "metadata": {
  "kernelspec": {
   "display_name": "Python 3 (ipykernel)",
   "language": "python",
   "name": "python3"
  },
  "language_info": {
   "codemirror_mode": {
    "name": "ipython",
    "version": 3
   },
   "file_extension": ".py",
   "mimetype": "text/x-python",
   "name": "python",
   "nbconvert_exporter": "python",
   "pygments_lexer": "ipython3",
   "version": "3.9.7"
  }
 },
 "nbformat": 4,
 "nbformat_minor": 5
}
